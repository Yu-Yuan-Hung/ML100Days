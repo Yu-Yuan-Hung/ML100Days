{
 "cells": [
  {
   "cell_type": "code",
   "execution_count": 3,
   "id": "honey-heather",
   "metadata": {},
   "outputs": [],
   "source": [
    "# Q1: 假設 𝑋 ̅>2，拒絕 𝐻_0，𝛼 會變大/變小? 𝛽 會變大/變小?\n",
    "# beta會變大，alpha會變小"
   ]
  },
  {
   "cell_type": "code",
   "execution_count": 2,
   "id": "residential-coalition",
   "metadata": {},
   "outputs": [],
   "source": [
    "# Q2: 假設 𝑋 ̅>0.2，拒絕 𝐻_0，𝛼 會變大/變小? 𝛽 會變大/變小?\n",
    "# beta會變小，alpha會變大"
   ]
  },
  {
   "cell_type": "code",
   "execution_count": null,
   "id": "sustained-elevation",
   "metadata": {},
   "outputs": [],
   "source": [
    "# Q3: 𝛼 和 𝛽 有關聯性?\n",
    "# 兩個是互相消長的概念，\n",
    "# alpha會變大，beta就會變小\n",
    "# alpha會變小，beta就會變大"
   ]
  }
 ],
 "metadata": {
  "kernelspec": {
   "display_name": "Python 3",
   "language": "python",
   "name": "python3"
  },
  "language_info": {
   "codemirror_mode": {
    "name": "ipython",
    "version": 3
   },
   "file_extension": ".py",
   "mimetype": "text/x-python",
   "name": "python",
   "nbconvert_exporter": "python",
   "pygments_lexer": "ipython3",
   "version": "3.9.1"
  }
 },
 "nbformat": 4,
 "nbformat_minor": 5
}
