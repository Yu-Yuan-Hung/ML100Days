{
 "cells": [
  {
   "cell_type": "code",
   "execution_count": null,
   "id": "regular-covering",
   "metadata": {},
   "outputs": [],
   "source": [
    "# Q1: 哪一個問題不適合用資料科學解決?\n",
    "# ans:挑選 Mr./Ms. Right\n",
    "\n",
    "\n",
    "# Q2: 以你的角度來分析，為什麼這樣的問題，較不適合用資料來解決?\n",
    "# ans:挑選 Mr./Ms. Right，因為資料會比較偏向主觀一點，因此結果往往會與真實結果有點差距。\n"
   ]
  }
 ],
 "metadata": {
  "kernelspec": {
   "display_name": "Python 3",
   "language": "python",
   "name": "python3"
  },
  "language_info": {
   "codemirror_mode": {
    "name": "ipython",
    "version": 3
   },
   "file_extension": ".py",
   "mimetype": "text/x-python",
   "name": "python",
   "nbconvert_exporter": "python",
   "pygments_lexer": "ipython3",
   "version": "3.9.1"
  }
 },
 "nbformat": 4,
 "nbformat_minor": 5
}
