{
 "cells": [
  {
   "cell_type": "code",
   "execution_count": 5,
   "id": "manufactured-bristol",
   "metadata": {},
   "outputs": [],
   "source": [
    "# library\n",
    "import matplotlib.pyplot as plt\n",
    "import numpy as np\n",
    "import pandas as pd\n",
    "from scipy import stats\n",
    "import math\n",
    "import statistics\n",
    "import seaborn as sns"
   ]
  },
  {
   "cell_type": "code",
   "execution_count": 6,
   "id": "blessed-cooper",
   "metadata": {},
   "outputs": [],
   "source": [
    "## 輸入資料\n",
    "male=[164,176,169,169,165,175,159,151,144,160,183,165,156,170,164,173,165,163,177,171]\n",
    "female=[169,183,170,168,182,170,173,185,151,156,162,169,162,181,159,154,167,175,170,160]"
   ]
  },
  {
   "cell_type": "code",
   "execution_count": 14,
   "id": "stable-municipality",
   "metadata": {},
   "outputs": [
    {
     "data": {
      "text/plain": [
       "165.95"
      ]
     },
     "execution_count": 14,
     "metadata": {},
     "output_type": "execute_result"
    }
   ],
   "source": [
    "#Q2: 請問男生和女生在平均身高上誰比較高? 女生\n",
    "np.mean(male)"
   ]
  },
  {
   "cell_type": "code",
   "execution_count": 15,
   "id": "colonial-enhancement",
   "metadata": {},
   "outputs": [
    {
     "data": {
      "text/plain": [
       "168.3"
      ]
     },
     "execution_count": 15,
     "metadata": {},
     "output_type": "execute_result"
    }
   ],
   "source": [
    "np.mean(female)"
   ]
  },
  {
   "cell_type": "code",
   "execution_count": 16,
   "id": "accompanied-trainer",
   "metadata": {},
   "outputs": [],
   "source": [
    "#Q3:請問第二題的答案和日常生活中觀察的一致嗎? 如果不一致，你覺得原因可能為何? \n",
    "# 不一致，也許抽到樣本中的女性身高都是偏向較高的那一群"
   ]
  },
  {
   "cell_type": "code",
   "execution_count": null,
   "id": "fifteen-aging",
   "metadata": {},
   "outputs": [],
   "source": []
  }
 ],
 "metadata": {
  "kernelspec": {
   "display_name": "Python 3",
   "language": "python",
   "name": "python3"
  },
  "language_info": {
   "codemirror_mode": {
    "name": "ipython",
    "version": 3
   },
   "file_extension": ".py",
   "mimetype": "text/x-python",
   "name": "python",
   "nbconvert_exporter": "python",
   "pygments_lexer": "ipython3",
   "version": "3.9.1"
  }
 },
 "nbformat": 4,
 "nbformat_minor": 5
}
