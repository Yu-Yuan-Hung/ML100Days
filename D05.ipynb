{
 "cells": [
  {
   "cell_type": "code",
   "execution_count": 1,
   "metadata": {},
   "outputs": [],
   "source": [
    "import numpy as np"
   ]
  },
  {
   "cell_type": "code",
   "execution_count": 2,
   "metadata": {},
   "outputs": [],
   "source": [
    "english_score = np.array([55,89,76,65,48,70])\n",
    "math_score = np.array([60,85,60,68,np.nan,60])\n",
    "chinese_score = np.array([65,90,82,72,66,77])"
   ]
  },
  {
   "cell_type": "code",
   "execution_count": 17,
   "metadata": {},
   "outputs": [
    {
     "name": "stdout",
     "output_type": "stream",
     "text": [
      "67.16666666666667\n",
      "48\n",
      "89\n",
      "13.433995020924426\n"
     ]
    }
   ],
   "source": [
    "#1. 請計算各科成績平均、最大值、最小值、標準差，其中數學缺一筆資料可忽略?\n",
    "ave_english=np.mean(english_score)\n",
    "print(ave_english)\n",
    "min_english=np.min(english_score)\n",
    "print(min_english)\n",
    "max_english=np.max(english_score)\n",
    "print(max_english)\n",
    "std_english=np.std(english_score)\n",
    "print(std_english)"
   ]
  },
  {
   "cell_type": "code",
   "execution_count": 19,
   "metadata": {},
   "outputs": [
    {
     "name": "stdout",
     "output_type": "stream",
     "text": [
      "66.6\n",
      "60.0\n",
      "85.0\n",
      "9.707728879609279\n"
     ]
    }
   ],
   "source": [
    "ave_math=np.nanmean(math_score)\n",
    "print(ave_math)\n",
    "min_math=np.nanmin(math_score)\n",
    "print(min_math)\n",
    "max_math=np.nanmax(math_score)\n",
    "print(max_math)\n",
    "std_math=np.nanstd(math_score)\n",
    "print(std_math)"
   ]
  },
  {
   "cell_type": "code",
   "execution_count": 20,
   "metadata": {},
   "outputs": [
    {
     "name": "stdout",
     "output_type": "stream",
     "text": [
      "75.33333333333333\n",
      "65\n",
      "90\n",
      "8.825468196582484\n"
     ]
    }
   ],
   "source": [
    "ave_chinese=np.mean(chinese_score)\n",
    "print(ave_chinese)\n",
    "min_chinese=np.nanmin(chinese_score)\n",
    "print(min_chinese)\n",
    "max_chinese=np.nanmax(chinese_score)\n",
    "print(max_chinese)\n",
    "std_chinese=np.nanstd(chinese_score)\n",
    "print(std_chinese)"
   ]
  },
  {
   "cell_type": "code",
   "execution_count": 25,
   "metadata": {},
   "outputs": [
    {
     "name": "stdout",
     "output_type": "stream",
     "text": [
      "64.66666666666667\n",
      "55.0\n",
      "85.0\n",
      "9.860132971832694\n"
     ]
    }
   ],
   "source": [
    "# 2.第五位同學補考數學後成績為 55，請計算補考後數學成績平均、最大值、最小值、標準差？\n",
    "math_score[4]=55\n",
    "ave_math=np.nanmean(math_score)\n",
    "print(ave_math)\n",
    "min_math=np.nanmin(math_score)\n",
    "print(min_math)\n",
    "max_math=np.nanmax(math_score)\n",
    "print(max_math)\n",
    "std_math=np.nanstd(math_score)\n",
    "print(std_math)"
   ]
  },
  {
   "cell_type": "code",
   "execution_count": 29,
   "metadata": {},
   "outputs": [
    {
     "name": "stdout",
     "output_type": "stream",
     "text": [
      "0.977928283021127\n",
      "0.7405680270233628\n"
     ]
    }
   ],
   "source": [
    "#3. 用補考後資料找出與國文成績相關係數最高的學科?\n",
    "print(np.corrcoef(english_score,chinese_score)[0][1])\n",
    "print(np.corrcoef(math_score,chinese_score)[0][1])"
   ]
  },
  {
   "cell_type": "code",
   "execution_count": null,
   "metadata": {},
   "outputs": [],
   "source": []
  }
 ],
 "metadata": {
  "kernelspec": {
   "display_name": "Python 3",
   "language": "python",
   "name": "python3"
  },
  "language_info": {
   "codemirror_mode": {
    "name": "ipython",
    "version": 3
   },
   "file_extension": ".py",
   "mimetype": "text/x-python",
   "name": "python",
   "nbconvert_exporter": "python",
   "pygments_lexer": "ipython3",
   "version": "3.8.5"
  }
 },
 "nbformat": 4,
 "nbformat_minor": 4
}
